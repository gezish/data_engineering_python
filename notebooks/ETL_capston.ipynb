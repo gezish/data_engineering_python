{
 "cells": [
  {
   "cell_type": "code",
   "execution_count": 1,
   "metadata": {},
   "outputs": [],
   "source": [
    "import sys, os\n",
    "import glob\n",
    "import pandas as pd"
   ]
  },
  {
   "cell_type": "code",
   "execution_count": 2,
   "metadata": {},
   "outputs": [
    {
     "name": "stderr",
     "output_type": "stream",
     "text": [
      "'pwd' is not recognized as an internal or external command,\n",
      "operable program or batch file.\n"
     ]
    }
   ],
   "source": [
    "!pwd"
   ]
  },
  {
   "cell_type": "code",
   "execution_count": 5,
   "metadata": {},
   "outputs": [
    {
     "name": "stdout",
     "output_type": "stream",
     "text": [
      "Empty DataFrame\n",
      "Columns: [name, height, weight]\n",
      "Index: []\n"
     ]
    }
   ],
   "source": [
    "extract_data = pd.DataFrame(columns = ['name', 'height', 'weight'])\n",
    "print(extract_data)"
   ]
  },
  {
   "cell_type": "code",
   "execution_count": null,
   "metadata": {},
   "outputs": [],
   "source": [
    "\n",
    "def extract():\n",
    "    # create an empty data frame to hold extract data\n",
    "    extract_data = pd.DataFrame(column = ['name', 'height', 'weight'])\n",
    "    print(\"extraction pass\")\n",
    "    # process all csv files\n",
    "    for csvfile in glob.glob('*.csv'):\n",
    "        extracted_data = extract_data.append(extract_from_csv(csvfile), \n",
    "        ignore_index = True)\n",
    "        print(\"jason read pass\")\n",
    "    # process all json files    \n",
    "    for jsonfile in glob.glob('*.json'):\n",
    "        extracted_data = extract_data.append(extract_from_json(jsonfile), \n",
    "        ignore_index = True) \n",
    "        print(\"jason read pass\")\n",
    "        \n",
    "    return extract_data   \n",
    "\n"
   ]
  },
  {
   "cell_type": "markdown",
   "metadata": {},
   "source": [
    "Transform"
   ]
  },
  {
   "cell_type": "code",
   "execution_count": null,
   "metadata": {},
   "outputs": [],
   "source": [
    "def transform(data):\n",
    "    data['height']= round(dtaa.height * 0.0254, 2)\n",
    "    \n",
    "    data['height']= round(dtaa.height * 0.0254, 2)"
   ]
  },
  {
   "cell_type": "markdown",
   "metadata": {},
   "source": [
    "Loading and logging"
   ]
  },
  {
   "cell_type": "code",
   "execution_count": null,
   "metadata": {},
   "outputs": [],
   "source": [
    "def load(targetfile, data_to_load):\n",
    "    data_to_load.to_csv(targetfile)\n",
    "    \n",
    "    targetfile = 'transformed data scv'\n",
    "    load(targetfile, transformed_data)"
   ]
  },
  {
   "cell_type": "markdown",
   "metadata": {},
   "source": [
    "logginf fun"
   ]
  },
  {
   "cell_type": "code",
   "execution_count": null,
   "metadata": {},
   "outputs": [],
   "source": [
    "from datetime import datetime\n",
    "\n",
    "def lot(message):\n",
    "    datestamp_format = '%Y-%h-%d-%H:%M:%S'\n",
    "    now = datetime.now()\n",
    "    timestamp = now.strftime(timestamp)\n",
    "    with open(\"logdile.txt\", \"a\") as f:\n",
    "        f.write(timestamp + ',' +message + '\\n')"
   ]
  },
  {
   "cell_type": "markdown",
   "metadata": {},
   "source": [
    "final call"
   ]
  },
  {
   "cell_type": "code",
   "execution_count": null,
   "metadata": {},
   "outputs": [],
   "source": [
    "log(\"ETL Started\")\n",
    "\n",
    "log(\"data extraction started\")\n",
    "extracted_data = extract()\n",
    "log(\"data extraction ended succesfully\")\n",
    "\n",
    "\n",
    "log(\"data transform started\")\n",
    "transformed_date = transform(extract_data)\n",
    "log(\"data transformation ended succesfully\")\n",
    "\n",
    "log(\"loading the data Started\")\n",
    "\n",
    "load(targetfile, transformed_data)\n",
    "log(\"data loading ended succesfully\")"
   ]
  }
 ],
 "metadata": {
  "kernelspec": {
   "display_name": "Python 3.8.13 ('cosal')",
   "language": "python",
   "name": "python3"
  },
  "language_info": {
   "codemirror_mode": {
    "name": "ipython",
    "version": 3
   },
   "file_extension": ".py",
   "mimetype": "text/x-python",
   "name": "python",
   "nbconvert_exporter": "python",
   "pygments_lexer": "ipython3",
   "version": "3.8.13"
  },
  "orig_nbformat": 4,
  "vscode": {
   "interpreter": {
    "hash": "41c6ebc6205276a60830f21a1cf85a85972776fb046ae821d7832f20d8b7fcb0"
   }
  }
 },
 "nbformat": 4,
 "nbformat_minor": 2
}
